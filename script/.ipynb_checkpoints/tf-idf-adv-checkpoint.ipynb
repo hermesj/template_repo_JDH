{
 "cells": [
  {
   "cell_type": "code",
   "execution_count": null,
   "metadata": {},
   "outputs": [
    {
     "name": "stderr",
     "output_type": "stream",
     "text": [
      "[nltk_data] Downloading package stopwords to /root/nltk_data...\n",
      "[nltk_data]   Unzipping corpora/stopwords.zip.\n",
      "[nltk_data] Downloading package punkt to /root/nltk_data...\n",
      "[nltk_data]   Unzipping tokenizers/punkt.zip.\n"
     ]
    }
   ],
   "source": [
    "from sklearn.feature_extraction.text import TfidfVectorizer\n",
    "import numpy as np\n",
    "import os\n",
    "import json\n",
    "from wordcloud import WordCloud\n",
    "import matplotlib.pyplot as plt\n",
    "\n",
    "import nltk\n",
    "from nltk.corpus import stopwords\n",
    "from nltk.tokenize import word_tokenize\n",
    "\n",
    "# download German stop words\n",
    "nltk.download('stopwords')\n",
    "nltk.download('punkt')\n",
    "\n",
    "stop_words = set(stopwords.words('german'))\n",
    "\n",
    "# create a list of documents\n",
    "documents = []\n",
    "\n",
    "\n",
    "\n",
    "for file in os.listdir('comments_json_anonym'):\n",
    "    text = \"\"\n",
    "\n",
    "    with open('comments_json/'+file.split('_comments')[0]+'.txt','r',encoding='utf-8') as f:\n",
    "        text += f.read()\n",
    "    \n",
    "    text += '\\n'\n",
    "    with open('comments_json_anonym/'+file,'r',encoding='utf-8') as f:\n",
    "        data = json.load(f)\n",
    "    for comment in data:\n",
    "        text += comment['text']\n",
    "        if 'answers' in comment:\n",
    "            for answer in comment['answers']:\n",
    "                text += answer['text']\n",
    "\n",
    "    words = word_tokenize(text)\n",
    "    filtered_words = [word for word in words if word.lower() not in stop_words]\n",
    "            \n",
    "    documents.append(\" \".join(filtered_words))\n",
    "\n",
    "# create the tf-idf vectorizer\n",
    "vectorizer = TfidfVectorizer()\n",
    "\n",
    "# fit the vectorizer to the documents\n",
    "tfidf = vectorizer.fit_transform(documents)\n",
    "\n"
   ]
  },
  {
   "cell_type": "code",
   "execution_count": null,
   "metadata": {},
   "outputs": [],
   "source": [
    "from wordcloud import WordCloud\n",
    "import matplotlib.pyplot as plt\n",
    "\n",
    "docs = [documents[177],documents[187],documents[382]]\n",
    "# create a grid of subplots\n",
    "fig, axs = plt.subplots(nrows=1, ncols=3, figsize=(18,8))\n",
    "\n",
    "for doc_index in range(len(docs)):\n",
    "    wordcloud = WordCloud(width = 400, height = 400,\n",
    "        background_color ='white',\n",
    "        stopwords = None,\n",
    "        min_font_size = 10).generate(docs[doc_index])\n",
    "    axs[doc_index].imshow(wordcloud)\n",
    "    axs[doc_index].axis(\"off\")\n",
    "    axs[doc_index].set_title(f'Wordcloud for document {doc_index+1}')\n",
    "\n",
    "\n",
    "plt.show()"
   ]
  },
  {
   "cell_type": "code",
   "execution_count": 1,
   "metadata": {},
   "outputs": [
    {
     "ename": "NameError",
     "evalue": "name 'plt' is not defined",
     "output_type": "error",
     "traceback": [
      "\u001b[0;31m---------------------------------------------------------------------------\u001b[0m",
      "\u001b[0;31mNameError\u001b[0m                                 Traceback (most recent call last)",
      "\u001b[0;32m/tmp/ipykernel_193/3188072843.py\u001b[0m in \u001b[0;36m<module>\u001b[0;34m\u001b[0m\n\u001b[1;32m      2\u001b[0m \u001b[0;34m\u001b[0m\u001b[0m\n\u001b[1;32m      3\u001b[0m \u001b[0mdocids\u001b[0m \u001b[0;34m=\u001b[0m \u001b[0;34m[\u001b[0m\u001b[0;36m177\u001b[0m\u001b[0;34m,\u001b[0m\u001b[0;36m187\u001b[0m\u001b[0;34m,\u001b[0m\u001b[0;36m382\u001b[0m\u001b[0;34m]\u001b[0m\u001b[0;34m\u001b[0m\u001b[0;34m\u001b[0m\u001b[0m\n\u001b[0;32m----> 4\u001b[0;31m \u001b[0mfig\u001b[0m\u001b[0;34m,\u001b[0m \u001b[0maxs\u001b[0m \u001b[0;34m=\u001b[0m \u001b[0mplt\u001b[0m\u001b[0;34m.\u001b[0m\u001b[0msubplots\u001b[0m\u001b[0;34m(\u001b[0m\u001b[0mnrows\u001b[0m\u001b[0;34m=\u001b[0m\u001b[0;36m1\u001b[0m\u001b[0;34m,\u001b[0m \u001b[0mncols\u001b[0m\u001b[0;34m=\u001b[0m\u001b[0;36m3\u001b[0m\u001b[0;34m,\u001b[0m \u001b[0mfigsize\u001b[0m\u001b[0;34m=\u001b[0m\u001b[0;34m(\u001b[0m\u001b[0;36m18\u001b[0m\u001b[0;34m,\u001b[0m\u001b[0;36m8\u001b[0m\u001b[0;34m)\u001b[0m\u001b[0;34m)\u001b[0m\u001b[0;34m\u001b[0m\u001b[0;34m\u001b[0m\u001b[0m\n\u001b[0m\u001b[1;32m      5\u001b[0m \u001b[0;34m\u001b[0m\u001b[0m\n\u001b[1;32m      6\u001b[0m \u001b[0;32mfor\u001b[0m \u001b[0mi\u001b[0m\u001b[0;34m,\u001b[0m\u001b[0mid\u001b[0m \u001b[0;32min\u001b[0m \u001b[0menumerate\u001b[0m\u001b[0;34m(\u001b[0m\u001b[0mdocids\u001b[0m\u001b[0;34m)\u001b[0m\u001b[0;34m:\u001b[0m\u001b[0;34m\u001b[0m\u001b[0;34m\u001b[0m\u001b[0m\n",
      "\u001b[0;31mNameError\u001b[0m: name 'plt' is not defined"
     ]
    }
   ],
   "source": [
    "import pandas as pd\n",
    "\n",
    "docids = [177,187,382]\n",
    "fig, axs = plt.subplots(nrows=1, ncols=3, figsize=(18,8))\n",
    "\n",
    "for i,id in enumerate(docids):\n",
    "        df = pd.DataFrame(tfidf[id].T.todense(), index=vectorizer.get_feature_names_out(), columns=[\"TF-IDF\"])\n",
    "        df = df.sort_values('TF-IDF', ascending=False)\n",
    "        doc_dict = df.to_dict()\n",
    "\n",
    "        wordcloud = WordCloud(width = 800, height = 800,\n",
    "                background_color ='white',\n",
    "                stopwords = None,\n",
    "                min_font_size = 10).generate_from_frequencies(doc_dict['TF-IDF'])\n",
    "        axs[i].imshow(wordcloud)\n",
    "        axs[i].axis(\"off\")\n",
    "        axs[i].set_title(f'Wordcloud for post {id+1}')\n",
    "# Plot the wordcloud\n",
    "plt.axis(\"off\")\n",
    "plt.tight_layout(pad = 5)\n",
    "plt.show()"
   ]
  },
  {
   "cell_type": "code",
   "execution_count": null,
   "metadata": {},
   "outputs": [],
   "source": []
  }
 ],
 "metadata": {
  "kernelspec": {
   "display_name": "Python 3 (ipykernel)",
   "language": "python",
   "name": "python3"
  },
  "language_info": {
   "codemirror_mode": {
    "name": "ipython",
    "version": 3
   },
   "file_extension": ".py",
   "mimetype": "text/x-python",
   "name": "python",
   "nbconvert_exporter": "python",
   "pygments_lexer": "ipython3",
   "version": "3.7.13"
  },
  "toc": {
   "base_numbering": 1,
   "nav_menu": {},
   "number_sections": true,
   "sideBar": true,
   "skip_h1_title": false,
   "title_cell": "Table of Contents",
   "title_sidebar": "Contents",
   "toc_cell": false,
   "toc_position": {},
   "toc_section_display": true,
   "toc_window_display": false
  },
  "vscode": {
   "interpreter": {
    "hash": "641557815352a0c22635b1dd03500ee6b3c2a3d95dbb8be3da3a40978c067d26"
   }
  }
 },
 "nbformat": 4,
 "nbformat_minor": 2
}
