{
 "cells": [
  {
   "cell_type": "code",
   "execution_count": 8,
   "metadata": {},
   "outputs": [],
   "source": [
    "import os\n",
    "import json"
   ]
  },
  {
   "cell_type": "code",
   "execution_count": 11,
   "metadata": {},
   "outputs": [],
   "source": [
    "# Top and lowest Posts\n",
    "posts = {}\n",
    "\n",
    "for file in os.listdir(\"./ichbinsophiescholl\"):\n",
    "    if file.endswith(\".txt\"):\n",
    "        continue\n",
    "    temp = {}\n",
    "    with open(f\"./ichbinsophiescholl/{file}\",\"r\",encoding=\"utf-8\") as f:\n",
    "        temp = json.load(f)[\"node\"]\n",
    "    posts[temp['shortcode']] = {\"likes\":temp[\"edge_media_preview_like\"]['count'],\"comments\":temp[\"edge_media_to_comment\"]['count']}\n"
   ]
  },
  {
   "cell_type": "code",
   "execution_count": 26,
   "metadata": {},
   "outputs": [],
   "source": [
    "TopLikes = sorted(posts.items(),key=lambda x: x[1][\"likes\"],reverse=True)[:10]\n",
    "LowLikes = sorted(posts.items(),key=lambda x: x[1][\"likes\"])[:10]\n",
    "TopComments = sorted(posts.items(),key=lambda x: x[1][\"comments\"],reverse=True)[:10]\n",
    "LowComments = sorted(posts.items(),key=lambda x: x[1][\"comments\"])[:10]\n"
   ]
  },
  {
   "cell_type": "code",
   "execution_count": 37,
   "metadata": {},
   "outputs": [
    {
     "name": "stdout",
     "output_type": "stream",
     "text": [
      "Most liked posts:\n",
      "https://instagram.com/ichbinsophiescholl/p/COxwoSwHdHR\n",
      "https://instagram.com/ichbinsophiescholl/p/COkOXbZnnGK\n",
      "https://instagram.com/ichbinsophiescholl/p/CO3NpGSHm4S\n",
      "https://instagram.com/ichbinsophiescholl/p/CaSRa0DMu8x\n",
      "https://instagram.com/ichbinsophiescholl/p/COpScymKXtn\n",
      "https://instagram.com/ichbinsophiescholl/p/COnXOjgHo4O\n",
      "https://instagram.com/ichbinsophiescholl/p/CO7bXwbnI-F\n",
      "https://instagram.com/ichbinsophiescholl/p/CPBTe7jHkEW\n",
      "https://instagram.com/ichbinsophiescholl/p/COqYF8OKIYE\n",
      "https://instagram.com/ichbinsophiescholl/p/CPEDziwHX6H\n",
      "\n",
      "Least liked posts:\n",
      "https://instagram.com/ichbinsophiescholl/p/CXqJtrYI486\n",
      "https://instagram.com/ichbinsophiescholl/p/CXGUXS_o8bq\n",
      "https://instagram.com/ichbinsophiescholl/p/CYyP-1DIUKA\n",
      "https://instagram.com/ichbinsophiescholl/p/CWjBOs5Idzy\n",
      "https://instagram.com/ichbinsophiescholl/p/CYgwtAHIA5l\n",
      "https://instagram.com/ichbinsophiescholl/p/CXYIJy9o6af\n",
      "https://instagram.com/ichbinsophiescholl/p/CW0L5PFIwuk\n",
      "https://instagram.com/ichbinsophiescholl/p/CYO83Bro6IT\n",
      "https://instagram.com/ichbinsophiescholl/p/CVr-uynonY2\n",
      "https://instagram.com/ichbinsophiescholl/p/CX8ZCvqLLku\n",
      "\\Most commented posts:\n",
      "https://instagram.com/ichbinsophiescholl/p/CaSRa0DMu8x\n",
      "https://instagram.com/ichbinsophiescholl/p/COpScymKXtn\n",
      "https://instagram.com/ichbinsophiescholl/p/CaHkfORKgdm\n",
      "https://instagram.com/ichbinsophiescholl/p/CaMzXh1Mmid\n",
      "https://instagram.com/ichbinsophiescholl/p/CaPfN0zMP5F\n",
      "https://instagram.com/ichbinsophiescholl/p/COkOXbZnnGK\n",
      "https://instagram.com/ichbinsophiescholl/p/CaR8yxIM3t8\n",
      "https://instagram.com/ichbinsophiescholl/p/COf1sXcnyyI\n",
      "https://instagram.com/ichbinsophiescholl/p/COh3qlonTmM\n",
      "https://instagram.com/ichbinsophiescholl/p/CO7bXwbnI-F\n",
      "\n",
      "Least commented posts:\n",
      "https://instagram.com/ichbinsophiescholl/p/CW0L5PFIwuk\n",
      "https://instagram.com/ichbinsophiescholl/p/CVr-uynonY2\n",
      "https://instagram.com/ichbinsophiescholl/p/CWjBOs5Idzy\n",
      "https://instagram.com/ichbinsophiescholl/p/CXYIJy9o6af\n",
      "https://instagram.com/ichbinsophiescholl/p/CTts8IyoMXB\n",
      "https://instagram.com/ichbinsophiescholl/p/CUjxpAWIxsU\n",
      "https://instagram.com/ichbinsophiescholl/p/CVIrrvRIhIP\n",
      "https://instagram.com/ichbinsophiescholl/p/CU1zL53o9pF\n",
      "https://instagram.com/ichbinsophiescholl/p/CYO83Bro6IT\n",
      "https://instagram.com/ichbinsophiescholl/p/CVZ2XIfoaWn\n"
     ]
    }
   ],
   "source": [
    "print(\"Most liked posts:\")\n",
    "for item in TopLikes:\n",
    "    print(f\"https://instagram.com/ichbinsophiescholl/p/{item[0]}\")\n",
    "\n",
    "print(\"\\nLeast liked posts:\")\n",
    "for item in LowLikes:\n",
    "    print(f\"https://instagram.com/ichbinsophiescholl/p/{item[0]}\")\n",
    "\n",
    "print(\"\\nMost commented posts:\")\n",
    "for item in TopComments:\n",
    "    print(f\"https://instagram.com/ichbinsophiescholl/p/{item[0]}\")\n",
    "\n",
    "print(\"\\nLeast commented posts:\")\n",
    "for item in LowComments:\n",
    "    print(f\"https://instagram.com/ichbinsophiescholl/p/{item[0]}\")"
   ]
  }
 ],
 "metadata": {
  "kernelspec": {
   "display_name": ".env",
   "language": "python",
   "name": "python3"
  },
  "language_info": {
   "codemirror_mode": {
    "name": "ipython",
    "version": 3
   },
   "file_extension": ".py",
   "mimetype": "text/x-python",
   "name": "python",
   "nbconvert_exporter": "python",
   "pygments_lexer": "ipython3",
   "version": "3.10.5"
  },
  "orig_nbformat": 4,
  "vscode": {
   "interpreter": {
    "hash": "641557815352a0c22635b1dd03500ee6b3c2a3d95dbb8be3da3a40978c067d26"
   }
  }
 },
 "nbformat": 4,
 "nbformat_minor": 2
}
